{
 "metadata": {
  "name": ""
 },
 "nbformat": 3,
 "nbformat_minor": 0,
 "worksheets": [
  {
   "cells": [
    {
     "cell_type": "code",
     "collapsed": false,
     "input": [
      "import pandas as pd\n",
      "import numpy as np\n",
      "from sklearn import svm, cross_validation, grid_search\n",
      "from sklearn.cross_validation import train_test_split"
     ],
     "language": "python",
     "metadata": {},
     "outputs": [],
     "prompt_number": 18
    },
    {
     "cell_type": "code",
     "collapsed": false,
     "input": [
      "df_training = pd.read_csv('../handout/training.csv', header=None)\n",
      "df_training.columns=['name', 'city_code', 'country_code']"
     ],
     "language": "python",
     "metadata": {},
     "outputs": [],
     "prompt_number": 19
    },
    {
     "cell_type": "code",
     "collapsed": false,
     "input": [
      "words = list()\n",
      "for city in df_training.iloc[:,0].values:\n",
      "    for word in city.split(' '):\n",
      "        if not word in words:\n",
      "            words.append(word.lower())"
     ],
     "language": "python",
     "metadata": {},
     "outputs": [],
     "prompt_number": 20
    },
    {
     "cell_type": "code",
     "collapsed": false,
     "input": [
      "words = np.array(words)"
     ],
     "language": "python",
     "metadata": {},
     "outputs": [],
     "prompt_number": 22
    },
    {
     "cell_type": "code",
     "collapsed": false,
     "input": [
      "features = np.zeros((len(df_training), len(words)))\n",
      "i = 0\n",
      "for city in df_training.iloc[:,0].values:\n",
      "    for word in city.split(' '):\n",
      "        # Get the index in words\n",
      "        index = np.where(words == word.lower())\n",
      "        features[i][index] = 1\n",
      "    i += 1"
     ],
     "language": "python",
     "metadata": {},
     "outputs": [],
     "prompt_number": 23
    },
    {
     "cell_type": "code",
     "collapsed": false,
     "input": [
      "label_country = df_training.iloc[:,2].values\n",
      "label_country.shape = (label_country.shape[0],1)\n",
      "label_city = df_training.iloc[:,1].values\n",
      "label_city.shape = (label_city.shape[0],1)"
     ],
     "language": "python",
     "metadata": {},
     "outputs": [],
     "prompt_number": 24
    },
    {
     "cell_type": "code",
     "collapsed": false,
     "input": [
      "data = np.concatenate((features, label_city), axis=1)\n",
      "data = np.concatenate((data, label_country), axis=1)"
     ],
     "language": "python",
     "metadata": {},
     "outputs": [],
     "prompt_number": 25
    },
    {
     "cell_type": "code",
     "collapsed": false,
     "input": [
      "# Save features and dictionary to file\n",
      "#np.savetxt(\"training-features-and-labels.csv\", data)\n",
      "#np.savetxt(\"dictionary.csv\", words, fmt=\"%s\")"
     ],
     "language": "python",
     "metadata": {},
     "outputs": [],
     "prompt_number": 26
    },
    {
     "cell_type": "code",
     "collapsed": false,
     "input": [
      "# Split into training and validation data\n",
      "train_data, val_data = train_test_split(data, test_size=0.33)"
     ],
     "language": "python",
     "metadata": {},
     "outputs": [],
     "prompt_number": 27
    },
    {
     "cell_type": "code",
     "collapsed": false,
     "input": [
      "# Extract features and labels again from merged data\n",
      "train_features = train_data[:, :-2]\n",
      "train_labels_city = train_data[:, -2]\n",
      "train_labels_country = train_data[:, -1]\n",
      "\n",
      "val_features = val_data[:, :-2]\n",
      "val_labels_city = val_data[:, -2]\n",
      "val_labels_country = val_data[:, -1]"
     ],
     "language": "python",
     "metadata": {},
     "outputs": [],
     "prompt_number": 28
    },
    {
     "cell_type": "code",
     "collapsed": false,
     "input": [
      "# Perform actual training of SVM(s) based on cross validation\n",
      "params = {'C': range(1,3)}\n",
      "svr = svm.LinearSVC()\n",
      "clf = grid_search.GridSearchCV(svr, params, cv=5, n_jobs=4)\n",
      "clf.fit(train_features, train_labels_country)\n",
      "\n",
      "print \"TRAINING=====\"\n",
      "print \"Best parameters: {0}\\n\\n Best score: {1}\".format(clf.best_estimator_, clf.best_score_)\n",
      "print \"Grid scores on development set:\\n\\n\"\n",
      "for params, mean_score, scores in clf.grid_scores_:\n",
      "    print \"%0.3f (+/-%0.03f) for %r\" % (mean_score, scores.std() / 2, params)"
     ],
     "language": "python",
     "metadata": {},
     "outputs": [],
     "prompt_number": "*"
    },
    {
     "cell_type": "code",
     "collapsed": false,
     "input": [],
     "language": "python",
     "metadata": {},
     "outputs": [],
     "prompt_number": "*"
    },
    {
     "cell_type": "code",
     "collapsed": false,
     "input": [],
     "language": "python",
     "metadata": {},
     "outputs": []
    }
   ],
   "metadata": {}
  }
 ]
}